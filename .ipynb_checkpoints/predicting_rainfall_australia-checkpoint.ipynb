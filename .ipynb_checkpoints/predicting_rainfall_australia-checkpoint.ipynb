{
 "cells": [
  {
   "cell_type": "code",
   "execution_count": 38,
   "id": "a05cacab",
   "metadata": {},
   "outputs": [],
   "source": [
    "#  implementing a predictive model on Rain Dataset to predict whether or not it will rain tomorrow in Australia\n",
    "\n",
    "# Dataset contains about 10 years of daily weather observations of different locations in Australia.\n",
    "\n",
    "#  Problem Statement: Design a predictive model with the use of machine learning algorithms \n",
    "#                       to forecast whether or not it will rain tomorrow in Australia.\n",
    "\n",
    "#  Data Source: https://www.kaggle.com/jsphyg/weather-dataset-rattle-package:\n",
    "\n",
    "#   Dataset Description:\n",
    "#    Number of columns: 23\n",
    "#    Number of rows: 145460\n",
    "#    Number of Independent Columns: 22\n",
    "#    Number of Dependent Column: 1\n",
    "\n",
    "\n",
    "\n",
    "#  Data Preprocessing\n",
    "#  Finding categorical and Numerical features in Dataset\n",
    "#  Cardinality check for categorical features\n",
    "#  Handling Missing values\n",
    "#  Outlier detection and treatment\n",
    "#  Exploratory Data Analysis\n",
    "#  Encoding categorical features\n",
    "#  Correlation\n",
    "#  Feature Importance\n",
    "#  Splitting Data into Training and Testing sets\n",
    "#  Feature Scaling\n",
    "#  Model Building and Evaluation\n",
    "#  Results and Conclusion\n",
    "#  Save Model and Scaling object with Pickle"
   ]
  },
  {
   "cell_type": "code",
   "execution_count": 39,
   "id": "f71a8063",
   "metadata": {},
   "outputs": [],
   "source": [
    "#  Importing Necessary Libraries\n",
    "\n",
    "import pandas as pd\n",
    "import numpy as np\n",
    "import matplotlib.pyplot as plt\n",
    "import seaborn as sns\n",
    "%matplotlib inline\n",
    "\n",
    "# Loading the Dataset\n",
    "dataset = 'weatherAUS.csv'\n",
    "rain = pd.read_csv(dataset)"
   ]
  },
  {
   "cell_type": "code",
   "execution_count": 40,
   "id": "385868e8",
   "metadata": {},
   "outputs": [
    {
     "name": "stdout",
     "output_type": "stream",
     "text": [
      "         Date Location  MinTemp  MaxTemp  Rainfall  Evaporation  Sunshine  \\\n",
      "0  2008-12-01   Albury     13.4     22.9       0.6          NaN       NaN   \n",
      "1  2008-12-02   Albury      7.4     25.1       0.0          NaN       NaN   \n",
      "2  2008-12-03   Albury     12.9     25.7       0.0          NaN       NaN   \n",
      "3  2008-12-04   Albury      9.2     28.0       0.0          NaN       NaN   \n",
      "4  2008-12-05   Albury     17.5     32.3       1.0          NaN       NaN   \n",
      "\n",
      "  WindGustDir  WindGustSpeed WindDir9am  ... Humidity9am  Humidity3pm  \\\n",
      "0           W           44.0          W  ...        71.0         22.0   \n",
      "1         WNW           44.0        NNW  ...        44.0         25.0   \n",
      "2         WSW           46.0          W  ...        38.0         30.0   \n",
      "3          NE           24.0         SE  ...        45.0         16.0   \n",
      "4           W           41.0        ENE  ...        82.0         33.0   \n",
      "\n",
      "   Pressure9am  Pressure3pm  Cloud9am  Cloud3pm  Temp9am  Temp3pm  RainToday  \\\n",
      "0       1007.7       1007.1       8.0       NaN     16.9     21.8         No   \n",
      "1       1010.6       1007.8       NaN       NaN     17.2     24.3         No   \n",
      "2       1007.6       1008.7       NaN       2.0     21.0     23.2         No   \n",
      "3       1017.6       1012.8       NaN       NaN     18.1     26.5         No   \n",
      "4       1010.8       1006.0       7.0       8.0     17.8     29.7         No   \n",
      "\n",
      "   RainTomorrow  \n",
      "0            No  \n",
      "1            No  \n",
      "2            No  \n",
      "3            No  \n",
      "4            No  \n",
      "\n",
      "[5 rows x 23 columns]\n"
     ]
    }
   ],
   "source": [
    "# Checking the Column Names \n",
    "print (rain.head())"
   ]
  },
  {
   "cell_type": "code",
   "execution_count": 41,
   "id": "8a13675d",
   "metadata": {},
   "outputs": [
    {
     "name": "stdout",
     "output_type": "stream",
     "text": [
      "(145460, 23)\n"
     ]
    }
   ],
   "source": [
    "# Checking the Dimension of the Dataset - \n",
    "#  As we can see from the results that the dataset has 23 variables and 145460 records\n",
    "print(rain.shape)"
   ]
  },
  {
   "cell_type": "code",
   "execution_count": 42,
   "id": "b8d6e801",
   "metadata": {
    "scrolled": true
   },
   "outputs": [
    {
     "name": "stdout",
     "output_type": "stream",
     "text": [
      "<class 'pandas.core.frame.DataFrame'>\n",
      "RangeIndex: 145460 entries, 0 to 145459\n",
      "Data columns (total 23 columns):\n",
      " #   Column         Non-Null Count   Dtype  \n",
      "---  ------         --------------   -----  \n",
      " 0   Date           145460 non-null  object \n",
      " 1   Location       145460 non-null  object \n",
      " 2   MinTemp        143975 non-null  float64\n",
      " 3   MaxTemp        144199 non-null  float64\n",
      " 4   Rainfall       142199 non-null  float64\n",
      " 5   Evaporation    82670 non-null   float64\n",
      " 6   Sunshine       75625 non-null   float64\n",
      " 7   WindGustDir    135134 non-null  object \n",
      " 8   WindGustSpeed  135197 non-null  float64\n",
      " 9   WindDir9am     134894 non-null  object \n",
      " 10  WindDir3pm     141232 non-null  object \n",
      " 11  WindSpeed9am   143693 non-null  float64\n",
      " 12  WindSpeed3pm   142398 non-null  float64\n",
      " 13  Humidity9am    142806 non-null  float64\n",
      " 14  Humidity3pm    140953 non-null  float64\n",
      " 15  Pressure9am    130395 non-null  float64\n",
      " 16  Pressure3pm    130432 non-null  float64\n",
      " 17  Cloud9am       89572 non-null   float64\n",
      " 18  Cloud3pm       86102 non-null   float64\n",
      " 19  Temp9am        143693 non-null  float64\n",
      " 20  Temp3pm        141851 non-null  float64\n",
      " 21  RainToday      142199 non-null  object \n",
      " 22  RainTomorrow   142193 non-null  object \n",
      "dtypes: float64(16), object(7)\n",
      "memory usage: 25.5+ MB\n",
      "None\n"
     ]
    }
   ],
   "source": [
    "# Data Preprocessing \n",
    "# Real-world data is often messy, incomplete, unstructured, inconsistent, redundant, sprinkled with wacky values. So, without deploying any Data Preprocessing techniques, it is almost impossible to gain insights from raw data.\n",
    "\n",
    "# What exactly is Data Preprocessing?\n",
    "\n",
    "#  Data preprocessing is a process of converting raw data to a suitable format to extract insights. \n",
    "#  It is the first and foremost step in the Data Science life cycle. \n",
    "#  Data Preprocessing makes sure that data is clean, organize and read-to-feed to the Machine Learning model.\n",
    "\n",
    "# Consise Summary of the Dataset\n",
    "print(rain.info())"
   ]
  },
  {
   "cell_type": "code",
   "execution_count": 43,
   "id": "771cae0d",
   "metadata": {
    "scrolled": true
   },
   "outputs": [
    {
     "data": {
      "text/html": [
       "<div>\n",
       "<style scoped>\n",
       "    .dataframe tbody tr th:only-of-type {\n",
       "        vertical-align: middle;\n",
       "    }\n",
       "\n",
       "    .dataframe tbody tr th {\n",
       "        vertical-align: top;\n",
       "    }\n",
       "\n",
       "    .dataframe thead th {\n",
       "        text-align: right;\n",
       "    }\n",
       "</style>\n",
       "<table border=\"1\" class=\"dataframe\">\n",
       "  <thead>\n",
       "    <tr style=\"text-align: right;\">\n",
       "      <th></th>\n",
       "      <th>count</th>\n",
       "      <th>mean</th>\n",
       "      <th>std</th>\n",
       "      <th>min</th>\n",
       "      <th>25%</th>\n",
       "      <th>50%</th>\n",
       "      <th>75%</th>\n",
       "      <th>max</th>\n",
       "    </tr>\n",
       "  </thead>\n",
       "  <tbody>\n",
       "    <tr>\n",
       "      <th>MinTemp</th>\n",
       "      <td>143975.0</td>\n",
       "      <td>12.194034</td>\n",
       "      <td>6.398495</td>\n",
       "      <td>-8.5</td>\n",
       "      <td>7.6</td>\n",
       "      <td>12.0</td>\n",
       "      <td>16.9</td>\n",
       "      <td>33.9</td>\n",
       "    </tr>\n",
       "    <tr>\n",
       "      <th>MaxTemp</th>\n",
       "      <td>144199.0</td>\n",
       "      <td>23.221348</td>\n",
       "      <td>7.119049</td>\n",
       "      <td>-4.8</td>\n",
       "      <td>17.9</td>\n",
       "      <td>22.6</td>\n",
       "      <td>28.2</td>\n",
       "      <td>48.1</td>\n",
       "    </tr>\n",
       "    <tr>\n",
       "      <th>Rainfall</th>\n",
       "      <td>142199.0</td>\n",
       "      <td>2.360918</td>\n",
       "      <td>8.478060</td>\n",
       "      <td>0.0</td>\n",
       "      <td>0.0</td>\n",
       "      <td>0.0</td>\n",
       "      <td>0.8</td>\n",
       "      <td>371.0</td>\n",
       "    </tr>\n",
       "    <tr>\n",
       "      <th>Evaporation</th>\n",
       "      <td>82670.0</td>\n",
       "      <td>5.468232</td>\n",
       "      <td>4.193704</td>\n",
       "      <td>0.0</td>\n",
       "      <td>2.6</td>\n",
       "      <td>4.8</td>\n",
       "      <td>7.4</td>\n",
       "      <td>145.0</td>\n",
       "    </tr>\n",
       "    <tr>\n",
       "      <th>Sunshine</th>\n",
       "      <td>75625.0</td>\n",
       "      <td>7.611178</td>\n",
       "      <td>3.785483</td>\n",
       "      <td>0.0</td>\n",
       "      <td>4.8</td>\n",
       "      <td>8.4</td>\n",
       "      <td>10.6</td>\n",
       "      <td>14.5</td>\n",
       "    </tr>\n",
       "    <tr>\n",
       "      <th>WindGustSpeed</th>\n",
       "      <td>135197.0</td>\n",
       "      <td>40.035230</td>\n",
       "      <td>13.607062</td>\n",
       "      <td>6.0</td>\n",
       "      <td>31.0</td>\n",
       "      <td>39.0</td>\n",
       "      <td>48.0</td>\n",
       "      <td>135.0</td>\n",
       "    </tr>\n",
       "    <tr>\n",
       "      <th>WindSpeed9am</th>\n",
       "      <td>143693.0</td>\n",
       "      <td>14.043426</td>\n",
       "      <td>8.915375</td>\n",
       "      <td>0.0</td>\n",
       "      <td>7.0</td>\n",
       "      <td>13.0</td>\n",
       "      <td>19.0</td>\n",
       "      <td>130.0</td>\n",
       "    </tr>\n",
       "    <tr>\n",
       "      <th>WindSpeed3pm</th>\n",
       "      <td>142398.0</td>\n",
       "      <td>18.662657</td>\n",
       "      <td>8.809800</td>\n",
       "      <td>0.0</td>\n",
       "      <td>13.0</td>\n",
       "      <td>19.0</td>\n",
       "      <td>24.0</td>\n",
       "      <td>87.0</td>\n",
       "    </tr>\n",
       "    <tr>\n",
       "      <th>Humidity9am</th>\n",
       "      <td>142806.0</td>\n",
       "      <td>68.880831</td>\n",
       "      <td>19.029164</td>\n",
       "      <td>0.0</td>\n",
       "      <td>57.0</td>\n",
       "      <td>70.0</td>\n",
       "      <td>83.0</td>\n",
       "      <td>100.0</td>\n",
       "    </tr>\n",
       "    <tr>\n",
       "      <th>Humidity3pm</th>\n",
       "      <td>140953.0</td>\n",
       "      <td>51.539116</td>\n",
       "      <td>20.795902</td>\n",
       "      <td>0.0</td>\n",
       "      <td>37.0</td>\n",
       "      <td>52.0</td>\n",
       "      <td>66.0</td>\n",
       "      <td>100.0</td>\n",
       "    </tr>\n",
       "    <tr>\n",
       "      <th>Pressure9am</th>\n",
       "      <td>130395.0</td>\n",
       "      <td>1017.649940</td>\n",
       "      <td>7.106530</td>\n",
       "      <td>980.5</td>\n",
       "      <td>1012.9</td>\n",
       "      <td>1017.6</td>\n",
       "      <td>1022.4</td>\n",
       "      <td>1041.0</td>\n",
       "    </tr>\n",
       "    <tr>\n",
       "      <th>Pressure3pm</th>\n",
       "      <td>130432.0</td>\n",
       "      <td>1015.255889</td>\n",
       "      <td>7.037414</td>\n",
       "      <td>977.1</td>\n",
       "      <td>1010.4</td>\n",
       "      <td>1015.2</td>\n",
       "      <td>1020.0</td>\n",
       "      <td>1039.6</td>\n",
       "    </tr>\n",
       "    <tr>\n",
       "      <th>Cloud9am</th>\n",
       "      <td>89572.0</td>\n",
       "      <td>4.447461</td>\n",
       "      <td>2.887159</td>\n",
       "      <td>0.0</td>\n",
       "      <td>1.0</td>\n",
       "      <td>5.0</td>\n",
       "      <td>7.0</td>\n",
       "      <td>9.0</td>\n",
       "    </tr>\n",
       "    <tr>\n",
       "      <th>Cloud3pm</th>\n",
       "      <td>86102.0</td>\n",
       "      <td>4.509930</td>\n",
       "      <td>2.720357</td>\n",
       "      <td>0.0</td>\n",
       "      <td>2.0</td>\n",
       "      <td>5.0</td>\n",
       "      <td>7.0</td>\n",
       "      <td>9.0</td>\n",
       "    </tr>\n",
       "    <tr>\n",
       "      <th>Temp9am</th>\n",
       "      <td>143693.0</td>\n",
       "      <td>16.990631</td>\n",
       "      <td>6.488753</td>\n",
       "      <td>-7.2</td>\n",
       "      <td>12.3</td>\n",
       "      <td>16.7</td>\n",
       "      <td>21.6</td>\n",
       "      <td>40.2</td>\n",
       "    </tr>\n",
       "    <tr>\n",
       "      <th>Temp3pm</th>\n",
       "      <td>141851.0</td>\n",
       "      <td>21.683390</td>\n",
       "      <td>6.936650</td>\n",
       "      <td>-5.4</td>\n",
       "      <td>16.6</td>\n",
       "      <td>21.1</td>\n",
       "      <td>26.4</td>\n",
       "      <td>46.7</td>\n",
       "    </tr>\n",
       "  </tbody>\n",
       "</table>\n",
       "</div>"
      ],
      "text/plain": [
       "                  count         mean        std    min     25%     50%  \\\n",
       "MinTemp        143975.0    12.194034   6.398495   -8.5     7.6    12.0   \n",
       "MaxTemp        144199.0    23.221348   7.119049   -4.8    17.9    22.6   \n",
       "Rainfall       142199.0     2.360918   8.478060    0.0     0.0     0.0   \n",
       "Evaporation     82670.0     5.468232   4.193704    0.0     2.6     4.8   \n",
       "Sunshine        75625.0     7.611178   3.785483    0.0     4.8     8.4   \n",
       "WindGustSpeed  135197.0    40.035230  13.607062    6.0    31.0    39.0   \n",
       "WindSpeed9am   143693.0    14.043426   8.915375    0.0     7.0    13.0   \n",
       "WindSpeed3pm   142398.0    18.662657   8.809800    0.0    13.0    19.0   \n",
       "Humidity9am    142806.0    68.880831  19.029164    0.0    57.0    70.0   \n",
       "Humidity3pm    140953.0    51.539116  20.795902    0.0    37.0    52.0   \n",
       "Pressure9am    130395.0  1017.649940   7.106530  980.5  1012.9  1017.6   \n",
       "Pressure3pm    130432.0  1015.255889   7.037414  977.1  1010.4  1015.2   \n",
       "Cloud9am        89572.0     4.447461   2.887159    0.0     1.0     5.0   \n",
       "Cloud3pm        86102.0     4.509930   2.720357    0.0     2.0     5.0   \n",
       "Temp9am        143693.0    16.990631   6.488753   -7.2    12.3    16.7   \n",
       "Temp3pm        141851.0    21.683390   6.936650   -5.4    16.6    21.1   \n",
       "\n",
       "                  75%     max  \n",
       "MinTemp          16.9    33.9  \n",
       "MaxTemp          28.2    48.1  \n",
       "Rainfall          0.8   371.0  \n",
       "Evaporation       7.4   145.0  \n",
       "Sunshine         10.6    14.5  \n",
       "WindGustSpeed    48.0   135.0  \n",
       "WindSpeed9am     19.0   130.0  \n",
       "WindSpeed3pm     24.0    87.0  \n",
       "Humidity9am      83.0   100.0  \n",
       "Humidity3pm      66.0   100.0  \n",
       "Pressure9am    1022.4  1041.0  \n",
       "Pressure3pm    1020.0  1039.6  \n",
       "Cloud9am          7.0     9.0  \n",
       "Cloud3pm          7.0     9.0  \n",
       "Temp9am          21.6    40.2  \n",
       "Temp3pm          26.4    46.7  "
      ]
     },
     "execution_count": 43,
     "metadata": {},
     "output_type": "execute_result"
    }
   ],
   "source": [
    "# We can see that except for the Date and The Location columns - every dataset has a missing value \n",
    "# We would now be generating \"DESCRIPTIVE STATISTICS\" of the dataset using the describe () function in pandas \n",
    "# The data values that are 'object' will be ommitted through the exclude = object arguement within describe() function\n",
    "rain.describe(exclude=object).transpose()\n"
   ]
  },
  {
   "cell_type": "code",
   "execution_count": 44,
   "id": "de2f31ec",
   "metadata": {},
   "outputs": [
    {
     "data": {
      "text/html": [
       "<div>\n",
       "<style scoped>\n",
       "    .dataframe tbody tr th:only-of-type {\n",
       "        vertical-align: middle;\n",
       "    }\n",
       "\n",
       "    .dataframe tbody tr th {\n",
       "        vertical-align: top;\n",
       "    }\n",
       "\n",
       "    .dataframe thead th {\n",
       "        text-align: right;\n",
       "    }\n",
       "</style>\n",
       "<table border=\"1\" class=\"dataframe\">\n",
       "  <thead>\n",
       "    <tr style=\"text-align: right;\">\n",
       "      <th></th>\n",
       "      <th>count</th>\n",
       "      <th>unique</th>\n",
       "      <th>top</th>\n",
       "      <th>freq</th>\n",
       "    </tr>\n",
       "  </thead>\n",
       "  <tbody>\n",
       "    <tr>\n",
       "      <th>Date</th>\n",
       "      <td>145460</td>\n",
       "      <td>3436</td>\n",
       "      <td>2013-07-18</td>\n",
       "      <td>49</td>\n",
       "    </tr>\n",
       "    <tr>\n",
       "      <th>Location</th>\n",
       "      <td>145460</td>\n",
       "      <td>49</td>\n",
       "      <td>Canberra</td>\n",
       "      <td>3436</td>\n",
       "    </tr>\n",
       "    <tr>\n",
       "      <th>WindGustDir</th>\n",
       "      <td>135134</td>\n",
       "      <td>16</td>\n",
       "      <td>W</td>\n",
       "      <td>9915</td>\n",
       "    </tr>\n",
       "    <tr>\n",
       "      <th>WindDir9am</th>\n",
       "      <td>134894</td>\n",
       "      <td>16</td>\n",
       "      <td>N</td>\n",
       "      <td>11758</td>\n",
       "    </tr>\n",
       "    <tr>\n",
       "      <th>WindDir3pm</th>\n",
       "      <td>141232</td>\n",
       "      <td>16</td>\n",
       "      <td>SE</td>\n",
       "      <td>10838</td>\n",
       "    </tr>\n",
       "    <tr>\n",
       "      <th>RainToday</th>\n",
       "      <td>142199</td>\n",
       "      <td>2</td>\n",
       "      <td>No</td>\n",
       "      <td>110319</td>\n",
       "    </tr>\n",
       "    <tr>\n",
       "      <th>RainTomorrow</th>\n",
       "      <td>142193</td>\n",
       "      <td>2</td>\n",
       "      <td>No</td>\n",
       "      <td>110316</td>\n",
       "    </tr>\n",
       "  </tbody>\n",
       "</table>\n",
       "</div>"
      ],
      "text/plain": [
       "               count unique         top    freq\n",
       "Date          145460   3436  2013-07-18      49\n",
       "Location      145460     49    Canberra    3436\n",
       "WindGustDir   135134     16           W    9915\n",
       "WindDir9am    134894     16           N   11758\n",
       "WindDir3pm    141232     16          SE   10838\n",
       "RainToday     142199      2          No  110319\n",
       "RainTomorrow  142193      2          No  110316"
      ]
     },
     "execution_count": 44,
     "metadata": {},
     "output_type": "execute_result"
    }
   ],
   "source": [
    "rain.describe(include=object).transpose()"
   ]
  },
  {
   "cell_type": "code",
   "execution_count": 45,
   "id": "1a265909",
   "metadata": {},
   "outputs": [
    {
     "name": "stdout",
     "output_type": "stream",
     "text": [
      "Number of Categorical Features: 7\n",
      "Categorical Features: ['Date', 'Location', 'WindGustDir', 'WindDir9am', 'WindDir3pm', 'RainToday', 'RainTomorrow']\n"
     ]
    }
   ],
   "source": [
    "# Finding Categorical and Numerical Features in the Dataset\n",
    "\n",
    "# Categorical Features in the Dataset\n",
    "\n",
    "categorical_features = [column_name for column_name in rain.columns if rain[column_name].dtype == 'O']\n",
    "\n",
    "print(\"Number of Categorical Features: {}\".format(len(categorical_features))) # Number of Categorical Features\n",
    "print(\"Categorical Features:\", categorical_features) # Names of Categorical Features"
   ]
  },
  {
   "cell_type": "code",
   "execution_count": 46,
   "id": "683bfc10",
   "metadata": {},
   "outputs": [
    {
     "name": "stdout",
     "output_type": "stream",
     "text": [
      "Number of Numerical Features: 16\n",
      "Numerical Features:  ['MinTemp', 'MaxTemp', 'Rainfall', 'Evaporation', 'Sunshine', 'WindGustSpeed', 'WindSpeed9am', 'WindSpeed3pm', 'Humidity9am', 'Humidity3pm', 'Pressure9am', 'Pressure3pm', 'Cloud9am', 'Cloud3pm', 'Temp9am', 'Temp3pm']\n"
     ]
    }
   ],
   "source": [
    "# Numerical Feature in the Dataset\n",
    "\n",
    "numerical_features = [column_name for column_name in rain.columns if rain[column_name].dtype !='O']\n",
    "print(\"Number of Numerical Features: {}\".format(len(numerical_features)))\n",
    "print(\"Numerical Features: \",numerical_features)"
   ]
  },
  {
   "cell_type": "code",
   "execution_count": 47,
   "id": "8508ce9a",
   "metadata": {},
   "outputs": [],
   "source": [
    "# Cardinality check for Categorical features:\n",
    "\n",
    "# The accuracy, performance of a classifier not only depends on the model that we use, \n",
    "# but also depends on how we preprocess data, and what kind of data you’re feeding to the classifier to learn.\n",
    "\n",
    "# Many Machine learning algorithms like Linear Regression, Logistic Regression, k-nearest neighbors, etc. \n",
    "# can handle only numerical data, so encoding categorical data to numeric becomes a necessary step.  \n",
    "# But before jumping into encoding, check the cardinality of each categorical feature.\n",
    "\n",
    "\n",
    "# Cardinality: The number of unique values in each categorical feature is known as cardinality.\n",
    "\n",
    "\n",
    "# A feature with a high number of distinct/ unique values is a high cardinality feature. \n",
    "\n",
    "# A categorical feature with hundreds of zip codes is the best example of a high cardinality feature.\n",
    "#    This high cardinality feature poses many serious problems: \n",
    "#    Like it will increase the number of dimensions of data when that feature is encoded, which is not good for the model.\n",
    "#    There are many ways to handle high cardinality, one would be feature engineering\n",
    "#    The other is simply dropping that feature if it doesn’t add any value to the model.\n",
    "#    Let’s find the cardinality for Categorical features:"
   ]
  },
  {
   "cell_type": "code",
   "execution_count": 48,
   "id": "1e8caca2",
   "metadata": {},
   "outputs": [
    {
     "name": "stdout",
     "output_type": "stream",
     "text": [
      "Cardinality(no. of unique values) of Date are: 3436\n",
      "Cardinality(no. of unique values) of Location are: 49\n",
      "Cardinality(no. of unique values) of WindGustDir are: 17\n",
      "Cardinality(no. of unique values) of WindDir9am are: 17\n",
      "Cardinality(no. of unique values) of WindDir3pm are: 17\n",
      "Cardinality(no. of unique values) of RainToday are: 3\n",
      "Cardinality(no. of unique values) of RainTomorrow are: 3\n"
     ]
    }
   ],
   "source": [
    "for each_feature in categorical_features:\n",
    "    unique_values = len(rain[each_feature].unique())\n",
    "    print (\"Cardinality(no. of unique values) of {} are: {}\".format(each_feature, unique_values))"
   ]
  },
  {
   "cell_type": "code",
   "execution_count": 49,
   "id": "7052a787",
   "metadata": {},
   "outputs": [],
   "source": [
    "# Date column has high cardinality which poses several problems to the model in terms of efficiency \n",
    "#   and also dimensions of data increase when encoded to numerical data."
   ]
  },
  {
   "cell_type": "code",
   "execution_count": 50,
   "id": "5ecc3aa5",
   "metadata": {},
   "outputs": [
    {
     "data": {
      "text/html": [
       "<div>\n",
       "<style scoped>\n",
       "    .dataframe tbody tr th:only-of-type {\n",
       "        vertical-align: middle;\n",
       "    }\n",
       "\n",
       "    .dataframe tbody tr th {\n",
       "        vertical-align: top;\n",
       "    }\n",
       "\n",
       "    .dataframe thead th {\n",
       "        text-align: right;\n",
       "    }\n",
       "</style>\n",
       "<table border=\"1\" class=\"dataframe\">\n",
       "  <thead>\n",
       "    <tr style=\"text-align: right;\">\n",
       "      <th></th>\n",
       "      <th>Date</th>\n",
       "      <th>Location</th>\n",
       "      <th>MinTemp</th>\n",
       "      <th>MaxTemp</th>\n",
       "      <th>Rainfall</th>\n",
       "      <th>Evaporation</th>\n",
       "      <th>Sunshine</th>\n",
       "      <th>WindGustDir</th>\n",
       "      <th>WindGustSpeed</th>\n",
       "      <th>WindDir9am</th>\n",
       "      <th>...</th>\n",
       "      <th>Pressure9am</th>\n",
       "      <th>Pressure3pm</th>\n",
       "      <th>Cloud9am</th>\n",
       "      <th>Cloud3pm</th>\n",
       "      <th>Temp9am</th>\n",
       "      <th>Temp3pm</th>\n",
       "      <th>RainToday</th>\n",
       "      <th>RainTomorrow</th>\n",
       "      <th>year</th>\n",
       "      <th>day</th>\n",
       "    </tr>\n",
       "  </thead>\n",
       "  <tbody>\n",
       "    <tr>\n",
       "      <th>0</th>\n",
       "      <td>2008-12-01</td>\n",
       "      <td>Albury</td>\n",
       "      <td>13.4</td>\n",
       "      <td>22.9</td>\n",
       "      <td>0.6</td>\n",
       "      <td>NaN</td>\n",
       "      <td>NaN</td>\n",
       "      <td>W</td>\n",
       "      <td>44.0</td>\n",
       "      <td>W</td>\n",
       "      <td>...</td>\n",
       "      <td>1007.7</td>\n",
       "      <td>1007.1</td>\n",
       "      <td>8.0</td>\n",
       "      <td>NaN</td>\n",
       "      <td>16.9</td>\n",
       "      <td>21.8</td>\n",
       "      <td>No</td>\n",
       "      <td>No</td>\n",
       "      <td>2008</td>\n",
       "      <td>1</td>\n",
       "    </tr>\n",
       "    <tr>\n",
       "      <th>1</th>\n",
       "      <td>2008-12-02</td>\n",
       "      <td>Albury</td>\n",
       "      <td>7.4</td>\n",
       "      <td>25.1</td>\n",
       "      <td>0.0</td>\n",
       "      <td>NaN</td>\n",
       "      <td>NaN</td>\n",
       "      <td>WNW</td>\n",
       "      <td>44.0</td>\n",
       "      <td>NNW</td>\n",
       "      <td>...</td>\n",
       "      <td>1010.6</td>\n",
       "      <td>1007.8</td>\n",
       "      <td>NaN</td>\n",
       "      <td>NaN</td>\n",
       "      <td>17.2</td>\n",
       "      <td>24.3</td>\n",
       "      <td>No</td>\n",
       "      <td>No</td>\n",
       "      <td>2008</td>\n",
       "      <td>2</td>\n",
       "    </tr>\n",
       "    <tr>\n",
       "      <th>2</th>\n",
       "      <td>2008-12-03</td>\n",
       "      <td>Albury</td>\n",
       "      <td>12.9</td>\n",
       "      <td>25.7</td>\n",
       "      <td>0.0</td>\n",
       "      <td>NaN</td>\n",
       "      <td>NaN</td>\n",
       "      <td>WSW</td>\n",
       "      <td>46.0</td>\n",
       "      <td>W</td>\n",
       "      <td>...</td>\n",
       "      <td>1007.6</td>\n",
       "      <td>1008.7</td>\n",
       "      <td>NaN</td>\n",
       "      <td>2.0</td>\n",
       "      <td>21.0</td>\n",
       "      <td>23.2</td>\n",
       "      <td>No</td>\n",
       "      <td>No</td>\n",
       "      <td>2008</td>\n",
       "      <td>3</td>\n",
       "    </tr>\n",
       "    <tr>\n",
       "      <th>3</th>\n",
       "      <td>2008-12-04</td>\n",
       "      <td>Albury</td>\n",
       "      <td>9.2</td>\n",
       "      <td>28.0</td>\n",
       "      <td>0.0</td>\n",
       "      <td>NaN</td>\n",
       "      <td>NaN</td>\n",
       "      <td>NE</td>\n",
       "      <td>24.0</td>\n",
       "      <td>SE</td>\n",
       "      <td>...</td>\n",
       "      <td>1017.6</td>\n",
       "      <td>1012.8</td>\n",
       "      <td>NaN</td>\n",
       "      <td>NaN</td>\n",
       "      <td>18.1</td>\n",
       "      <td>26.5</td>\n",
       "      <td>No</td>\n",
       "      <td>No</td>\n",
       "      <td>2008</td>\n",
       "      <td>4</td>\n",
       "    </tr>\n",
       "    <tr>\n",
       "      <th>4</th>\n",
       "      <td>2008-12-05</td>\n",
       "      <td>Albury</td>\n",
       "      <td>17.5</td>\n",
       "      <td>32.3</td>\n",
       "      <td>1.0</td>\n",
       "      <td>NaN</td>\n",
       "      <td>NaN</td>\n",
       "      <td>W</td>\n",
       "      <td>41.0</td>\n",
       "      <td>ENE</td>\n",
       "      <td>...</td>\n",
       "      <td>1010.8</td>\n",
       "      <td>1006.0</td>\n",
       "      <td>7.0</td>\n",
       "      <td>8.0</td>\n",
       "      <td>17.8</td>\n",
       "      <td>29.7</td>\n",
       "      <td>No</td>\n",
       "      <td>No</td>\n",
       "      <td>2008</td>\n",
       "      <td>5</td>\n",
       "    </tr>\n",
       "  </tbody>\n",
       "</table>\n",
       "<p>5 rows × 25 columns</p>\n",
       "</div>"
      ],
      "text/plain": [
       "        Date Location  MinTemp  MaxTemp  Rainfall  Evaporation  Sunshine  \\\n",
       "0 2008-12-01   Albury     13.4     22.9       0.6          NaN       NaN   \n",
       "1 2008-12-02   Albury      7.4     25.1       0.0          NaN       NaN   \n",
       "2 2008-12-03   Albury     12.9     25.7       0.0          NaN       NaN   \n",
       "3 2008-12-04   Albury      9.2     28.0       0.0          NaN       NaN   \n",
       "4 2008-12-05   Albury     17.5     32.3       1.0          NaN       NaN   \n",
       "\n",
       "  WindGustDir  WindGustSpeed WindDir9am  ... Pressure9am  Pressure3pm  \\\n",
       "0           W           44.0          W  ...      1007.7       1007.1   \n",
       "1         WNW           44.0        NNW  ...      1010.6       1007.8   \n",
       "2         WSW           46.0          W  ...      1007.6       1008.7   \n",
       "3          NE           24.0         SE  ...      1017.6       1012.8   \n",
       "4           W           41.0        ENE  ...      1010.8       1006.0   \n",
       "\n",
       "   Cloud9am  Cloud3pm  Temp9am  Temp3pm  RainToday  RainTomorrow  year  day  \n",
       "0       8.0       NaN     16.9     21.8         No            No  2008    1  \n",
       "1       NaN       NaN     17.2     24.3         No            No  2008    2  \n",
       "2       NaN       2.0     21.0     23.2         No            No  2008    3  \n",
       "3       NaN       NaN     18.1     26.5         No            No  2008    4  \n",
       "4       7.0       8.0     17.8     29.7         No            No  2008    5  \n",
       "\n",
       "[5 rows x 25 columns]"
      ]
     },
     "execution_count": 50,
     "metadata": {},
     "output_type": "execute_result"
    }
   ],
   "source": [
    "# Feature Engineering of Date Column to decrease high Cardinality\n",
    "\n",
    "rain['Date'] = pd.to_datetime(rain['Date'])\n",
    "\n",
    "rain['year'] = rain['Date'].dt.year\n",
    "rain['month'] = rain['Date'].dt.month\n",
    "rain['day'] = rain['Date'].dt.day\n",
    "\n",
    "# Drop Date Column\n",
    "\n",
    "rain.drop('month', axis = 1, inplace = True) # axis =1 (refers to column) \n",
    "\n",
    "rain.head()\n"
   ]
  },
  {
   "cell_type": "code",
   "execution_count": 72,
   "id": "ef877ce8",
   "metadata": {},
   "outputs": [
    {
     "data": {
      "text/plain": [
       "Location        0\n",
       "WindGustDir     0\n",
       "WindDir9am      0\n",
       "WindDir3pm      0\n",
       "RainToday       0\n",
       "RainTomorrow    0\n",
       "dtype: int64"
      ]
     },
     "execution_count": 72,
     "metadata": {},
     "output_type": "execute_result"
    }
   ],
   "source": [
    "# Handling Missing Values in Categorical Features \n",
    "\n",
    "categorical_features = [column_name for column_name in rain.columns if rain[column_name].dtype == 'O']\n",
    "\n",
    "rain[categorical_features].isnull().sum()\n",
    "\n",
    "\n"
   ]
  },
  {
   "cell_type": "code",
   "execution_count": 52,
   "id": "f2611728",
   "metadata": {},
   "outputs": [],
   "source": [
    "# Imputing the missing values in Categorical Variables Using the most frequent Value (MODE)\n",
    "categorical_features_with_null = [feature for feature in categorical_features if rain[feature].isnull().sum()]\n",
    "\n",
    "\n",
    "for each_feature in categorical_features_with_null:\n",
    "    mode_val = rain[each_feature].mode()[0]\n",
    "    rain[each_feature].fillna(mode_val, inplace = True)"
   ]
  },
  {
   "cell_type": "code",
   "execution_count": 71,
   "id": "dc98439c",
   "metadata": {},
   "outputs": [
    {
     "data": {
      "text/plain": [
       "Canberra            3436\n",
       "Sydney              3344\n",
       "Brisbane            3193\n",
       "Hobart              3193\n",
       "Darwin              3193\n",
       "Melbourne           3193\n",
       "Perth               3193\n",
       "Adelaide            3193\n",
       "Bendigo             3040\n",
       "Townsville          3040\n",
       "Albury              3040\n",
       "MountGambier        3040\n",
       "GoldCoast           3040\n",
       "Wollongong          3040\n",
       "Cairns              3040\n",
       "Ballarat            3040\n",
       "MountGinini         3040\n",
       "Albany              3040\n",
       "AliceSprings        3040\n",
       "Launceston          3040\n",
       "Penrith             3039\n",
       "Newcastle           3039\n",
       "Tuggeranong         3039\n",
       "Mildura             3009\n",
       "NorfolkIsland       3009\n",
       "Watsonia            3009\n",
       "WaggaWagga          3009\n",
       "Moree               3009\n",
       "CoffsHarbour        3009\n",
       "Richmond            3009\n",
       "MelbourneAirport    3009\n",
       "Williamtown         3009\n",
       "Witchcliffe         3009\n",
       "SydneyAirport       3009\n",
       "Nuriootpa           3009\n",
       "PearceRAAF          3009\n",
       "PerthAirport        3009\n",
       "BadgerysCreek       3009\n",
       "Woomera             3009\n",
       "Portland            3009\n",
       "Dartmoor            3009\n",
       "Sale                3009\n",
       "Cobar               3009\n",
       "Walpole             3006\n",
       "NorahHead           3004\n",
       "SalmonGums          3001\n",
       "Katherine           1578\n",
       "Nhil                1578\n",
       "Uluru               1578\n",
       "Name: Location, dtype: int64"
      ]
     },
     "execution_count": 71,
     "metadata": {},
     "output_type": "execute_result"
    }
   ],
   "source": [
    "rain.Location.value_counts()"
   ]
  },
  {
   "cell_type": "code",
   "execution_count": 70,
   "id": "9a23c1ac",
   "metadata": {},
   "outputs": [
    {
     "data": {
      "text/plain": [
       "Date             0\n",
       "MinTemp          0\n",
       "MaxTemp          0\n",
       "Rainfall         0\n",
       "Evaporation      0\n",
       "Sunshine         0\n",
       "WindGustSpeed    0\n",
       "WindSpeed9am     0\n",
       "WindSpeed3pm     0\n",
       "Humidity9am      0\n",
       "Humidity3pm      0\n",
       "Pressure9am      0\n",
       "Pressure3pm      0\n",
       "Cloud9am         0\n",
       "Cloud3pm         0\n",
       "Temp9am          0\n",
       "Temp3pm          0\n",
       "year             0\n",
       "day              0\n",
       "dtype: int64"
      ]
     },
     "execution_count": 70,
     "metadata": {},
     "output_type": "execute_result"
    }
   ],
   "source": [
    "# Handling Missing Values in Numerical Features\n",
    "\n",
    "numerical_features = [column_name for column_name in rain.columns if rain[column_name].dtype != 'O']\n",
    "rain[numerical_features].isnull().sum()"
   ]
  },
  {
   "cell_type": "code",
   "execution_count": 55,
   "id": "a867842d",
   "metadata": {},
   "outputs": [],
   "source": [
    "# Missing Value in the Numerical Features can be Imputed as Mean or Median.\n",
    "# However, for this the outliers have to be addressed. "
   ]
  },
  {
   "cell_type": "code",
   "execution_count": 63,
   "id": "40594e12",
   "metadata": {},
   "outputs": [],
   "source": [
    "# OUTLIER TREATMENT WITHIN NUMERICAL FEATURES\n",
    "\n",
    "\n",
    "features_with_outliers = ['MinTemp', 'MaxTemp', 'Rainfall', 'Evaporation', 'WindGustSpeed','WindSpeed9am', 'WindSpeed3pm', 'Humidity9am', \n",
    "                          'Pressure9am', 'Pressure3pm', 'Temp9am', 'Temp3pm']\n",
    "\n",
    "# Using the Inter Quartile Range Rule to Address Outliers\n",
    "\n",
    "\n",
    "for feature in features_with_outliers:\n",
    "    q1 = rain[feature].quantile(0.25) #Calculating 1st Quartile / 25th percentile of the feature values\n",
    "    q3 = rain[feature].quantile(0.75) #Calculating 3rd Quatile / 75th percentile of the feature values\n",
    "    IQR = q3-q1 #Calculating Inter Quartile Range - Shows how the data data is spread across the Median value\n",
    "    \n",
    "    # Multiply IQR by 1.5 - which is the constant to discern outliers \n",
    "    lower_limit = q1-(IQR*1.5) #  Any number less than this is an outlier\n",
    "    upper_limit = q3+(IQR*1.5) #  Any number more than this is an outlier\n",
    "\n",
    "    #Extracts rows of data which are lower than lower_limit and assigns them the value of lower limit\n",
    "    rain.loc[rain[feature]<lower_limit, feature] = lower_limit \n",
    "    \n",
    "    #Extracts rows of data which are higher than upper_limit and assigns them the value of upper limit\n",
    "    rain.loc[rain[feature]>upper_limit, feature] = upper_limit\n",
    "    "
   ]
  },
  {
   "cell_type": "code",
   "execution_count": 62,
   "id": "ff0fa750",
   "metadata": {},
   "outputs": [],
   "source": [
    "# The Numerical Values are free from Outliers - Imputing the misisng vaues with numerical Mean\n",
    "\n",
    "numerical_features_with_null = [feature for feature in numerical_features if rain[feature].isnull().sum()]\n",
    "\n",
    "for feature in numerical_features_with_null:\n",
    "    mean_value = rain[feature].mean()\n",
    "    \n",
    "    rain[feature].fillna(mean_value, inplace = True)"
   ]
  },
  {
   "cell_type": "code",
   "execution_count": 66,
   "id": "12f90335",
   "metadata": {},
   "outputs": [],
   "source": [
    "# Its now time to do some Exploratory Data Analysis"
   ]
  },
  {
   "cell_type": "code",
   "execution_count": 82,
   "id": "1e091ddc",
   "metadata": {},
   "outputs": [
    {
     "data": {
      "text/plain": [
       "<AxesSubplot:>"
      ]
     },
     "execution_count": 82,
     "metadata": {},
     "output_type": "execute_result"
    },
    {
     "data": {
      "image/png": "[encoded data removed]",
      "text/plain": [
       "<Figure size 432x288 with 1 Axes>"
      ]
     },
     "metadata": {
      "needs_background": "light"
     },
     "output_type": "display_data"
    }
   ],
   "source": [
    "rain['RainTomorrow'].value_counts().plot(kind='bar')"
   ]
  },
  {
   "cell_type": "code",
   "execution_count": 73,
   "id": "f44f6e9b",
   "metadata": {},
   "outputs": [],
   "source": [
    "# Looks like the Target variable is imbalanced. It has more ‘No’ values. If data is imbalanced, \n",
    "# then it might decrease the performance of the model. As this data is released by the meteorological \n",
    "# department of Australia, it doesn’t make any sense when we try to balance the target variable, \n",
    "# because the truthfulness of data might decrease. So, let me keep it as it is.\n"
   ]
  },
  {
   "cell_type": "code",
   "execution_count": 75,
   "id": "cef76738",
   "metadata": {},
   "outputs": [],
   "source": [
    "# Bi-Variate Analysis:\n",
    "# Sunshine versus Rainfall "
   ]
  },
  {
   "cell_type": "code",
   "execution_count": 84,
   "id": "fd2b5805",
   "metadata": {},
   "outputs": [
    {
     "data": {
      "text/plain": [
       "<AxesSubplot:xlabel='Sunshine', ylabel='Rainfall'>"
      ]
     },
     "execution_count": 84,
     "metadata": {},
     "output_type": "execute_result"
    },
    {
     "data": {
      "image/png": "[encoded data removed]",
      "text/plain": [
       "<Figure size 432x288 with 1 Axes>"
      ]
     },
     "metadata": {
      "needs_background": "light"
     },
     "output_type": "display_data"
    }
   ],
   "source": [
    "sns.lineplot(data = rain, x='Sunshine', y='Rainfall', color = 'green')"
   ]
  },
  {
   "cell_type": "code",
   "execution_count": 87,
   "id": "7dba0784",
   "metadata": {},
   "outputs": [
    {
     "data": {
      "text/plain": [
       "<AxesSubplot:xlabel='Sunshine', ylabel='Evaporation'>"
      ]
     },
     "execution_count": 87,
     "metadata": {},
     "output_type": "execute_result"
    },
    {
     "data": {
      "image/png": "[encoded data removed]",
      "text/plain": [
       "<Figure size 432x288 with 1 Axes>"
      ]
     },
     "metadata": {
      "needs_background": "light"
     },
     "output_type": "display_data"
    }
   ],
   "source": [
    "# Sunshine verus Rainfall\n",
    "\n",
    "sns.lineplot(data = rain, x='Sunshine', y='Evaporation', color = 'blue')"
   ]
  },
  {
   "cell_type": "code",
   "execution_count": null,
   "id": "0b65ad2d",
   "metadata": {},
   "outputs": [],
   "source": [
    "# Encoding of Categorical Variables -- Feature Encoding. "
   ]
  }
 ],
 "metadata": {
  "kernelspec": {
   "display_name": "Python 3",
   "language": "python",
   "name": "python3"
  },
  "language_info": {
   "codemirror_mode": {
    "name": "ipython",
    "version": 3
   },
   "file_extension": ".py",
   "mimetype": "text/x-python",
   "name": "python",
   "nbconvert_exporter": "python",
   "pygments_lexer": "ipython3",
   "version": "3.8.8"
  }
 },
 "nbformat": 4,
 "nbformat_minor": 5
}
